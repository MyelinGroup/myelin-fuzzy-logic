{
 "cells": [
  {
   "cell_type": "code",
   "execution_count": 2,
   "id": "a042fa16",
   "metadata": {},
   "outputs": [],
   "source": [
    "import pandas as pd\n",
    "import numpy as np\n",
    "import matplotlib.pyplot as plt"
   ]
  },
  {
   "cell_type": "code",
   "execution_count": 1,
   "id": "52c2694c",
   "metadata": {},
   "outputs": [],
   "source": [
    "# Sourcing our recorded data, df_f = flappy bird trials, df_e = eeg recordings\n",
    "df_f1 = \"https://raw.githubusercontent.com/MyelinGroup/myelin-fuzzy-logic/main/Our%20Recorded%20Data/FlappyBird_Trial_1/FlappyB_1.csv\"\n",
    "df_f2 = \"https://raw.githubusercontent.com/MyelinGroup/myelin-fuzzy-logic/main/Our%20Recorded%20Data/FlappyBird_Trial_2/FlappyB_2.csv\"\n",
    "df_f3 = \"https://raw.githubusercontent.com/MyelinGroup/myelin-fuzzy-logic/main/Our%20Recorded%20Data/FlappyBird_Trial_3/FlappyB_3.csv\"\n",
    "df_f4 = \"https://raw.githubusercontent.com/MyelinGroup/myelin-fuzzy-logic/main/Our%20Recorded%20Data/FlappyBird_Trial_4/FlappyB_4.csv\"\n",
    "df_f5 = \"https://raw.githubusercontent.com/MyelinGroup/myelin-fuzzy-logic/main/Our%20Recorded%20Data/FlappyBird_Trial_5/FlappyB_5.csv\"\n",
    "df_f6 = \"https://raw.githubusercontent.com/MyelinGroup/myelin-fuzzy-logic/main/Our%20Recorded%20Data/FlappyBird_Trial_6/FlappyB_6.csv\"\n",
    "df_f7 = \"https://raw.githubusercontent.com/MyelinGroup/myelin-fuzzy-logic/main/Our%20Recorded%20Data/FlappyBird_Trial_7/FlappyB_7.csv\"\n",
    "df_f8 = \"https://raw.githubusercontent.com/MyelinGroup/myelin-fuzzy-logic/main/Our%20Recorded%20Data/FlappyBird_Trial_8/FlappyB_8.csv\"\n",
    "df_f9 = \"https://raw.githubusercontent.com/MyelinGroup/myelin-fuzzy-logic/main/Our%20Recorded%20Data/FlappyBird_Trial_9/FlappyB_9.csv\"\n",
    "df_f10 = \"https://raw.githubusercontent.com/MyelinGroup/myelin-fuzzy-logic/main/Our%20Recorded%20Data/FlappyBird_Trial_10/FlappyB_10.csv\"\n",
    "\n",
    "\n",
    "df_e1 = \"https://raw.githubusercontent.com/MyelinGroup/myelin-fuzzy-logic/main/Our%20Recorded%20Data/FlappyBird_Trial_1/FlappyBird_Trial_1_ExG.csv\"\n",
    "df_e2 = \"https://raw.githubusercontent.com/MyelinGroup/myelin-fuzzy-logic/main/Our%20Recorded%20Data/FlappyBird_Trial_2/FlappyBird_Trial_2_ExG.csv\"\n",
    "df_e3 = \"https://raw.githubusercontent.com/MyelinGroup/myelin-fuzzy-logic/main/Our%20Recorded%20Data/FlappyBird_Trial_3/FlappyBird_Trial_3_ExG.csv\"\n",
    "df_e4 = \"https://raw.githubusercontent.com/MyelinGroup/myelin-fuzzy-logic/main/Our%20Recorded%20Data/FlappyBird_Trial_4/FlappyBird_Trial_4_ExG.csv\"\n",
    "df_e5 = \"https://raw.githubusercontent.com/MyelinGroup/myelin-fuzzy-logic/main/Our%20Recorded%20Data/FlappyBird_Trial_5/FlappyBird_Trial_5_ExG.csv\"\n",
    "df_e6 = \"https://raw.githubusercontent.com/MyelinGroup/myelin-fuzzy-logic/main/Our%20Recorded%20Data/FlappyBird_Trial_6/FlappyBird_Trial_6_ExG.csv\"\n",
    "df_e7 = \"https://raw.githubusercontent.com/MyelinGroup/myelin-fuzzy-logic/main/Our%20Recorded%20Data/FlappyBird_Trial_7/FlappyBird_Trial_7_ExG.csv\"\n",
    "df_e8 = \"https://raw.githubusercontent.com/MyelinGroup/myelin-fuzzy-logic/main/Our%20Recorded%20Data/FlappyBird_Trial_8/FlappyBird_Trial_8_ExG.csv\"\n",
    "df_e9 = \"https://raw.githubusercontent.com/MyelinGroup/myelin-fuzzy-logic/main/Our%20Recorded%20Data/FlappyBird_Trial_9/FlappyBird_Trial_9_ExG.csv\"\n",
    "df_e10 = \"https://raw.githubusercontent.com/MyelinGroup/myelin-fuzzy-logic/main/Our%20Recorded%20Data/FlappyBird_Trial_10/FlappyBird_Trial_10_ExG.csv\"\n"
   ]
  },
  {
   "cell_type": "code",
   "execution_count": 67,
   "id": "091dfad3",
   "metadata": {},
   "outputs": [],
   "source": [
    "class DataAnalysis():\n",
    "    def __init__(self, path_EEG, path_FlappyBird, window_size_sec, UNIX, LSL):\n",
    "        self.df_E = pd.read_csv(path_EEG)\n",
    "        self.df_F = pd.read_csv(path_FlappyBird)\n",
    "        self.channels = pd.read_csv(path_EEG).columns[1:]\n",
    "        self.window = window_size_sec\n",
    "        self.offset = UNIX - LSL\n",
    "        self.df_E = self.df_E.rename(columns={\"TimeStamp\": \"Timestamp\"})\n",
    "        self.df_E['Timestamp'] = (self.df_E['Timestamp']*1000).astype('int') + self.offset\n",
    "    \n",
    "    def find_nearest(self, array, value):\n",
    "        array = np.asarray(array)\n",
    "        value_true = array[(np.abs(array - value)).argmin()]\n",
    "        return value_true\n",
    "        \n",
    "    def dataframe_of_events_and_merge(self):\n",
    "        #This function gets the timestamps of all events Start and Over \n",
    "        df = self.df_E.merge(self.df_F, on='Timestamp', how='outer')\n",
    "        df = df.sort_values(by=\"Timestamp\").reset_index()\n",
    "        event_rows = df[(df.Event == 'Start') | (df.Event == 'Over')].index\n",
    "        return df.iloc[event_rows], df\n",
    "    \n",
    "    def get_window(self, timestamp):\n",
    "        window_df = pd.DataFrame()\n",
    "        lower = timestamp - self.window * 1000\n",
    "        upper = timestamp + self.window * 1000\n",
    "        window_df = self.df_E[(self.df_E.Timestamp >= lower) & (self.df_E.Timestamp <= upper)]\n",
    "        return window_df\n",
    "    \n",
    "    def plot_window(self, event_number):\n",
    "        events_df, df = self.dataframe_of_events_and_merge()\n",
    "        timestamp = events_df.iloc[event_number].Timestamp\n",
    "        window_df = self.get_window(timestamp)\n",
    "        for channel in self.channels:\n",
    "            window_array = window_df[channel]\n",
    "            plt.plot(window_df.Timestamp, window_array, color='red')\n",
    "            plt.title(\"Node:\" + channel)\n",
    "            plt.plot(np.ones(1000)*events_df.iloc[event_number]['Timestamp'], np.linspace(min(window_array), max(window_array), 1000))\n",
    "            plt.grid()\n",
    "            plt.tight_layout()\n",
    "            plt.show()\n",
    "            \n",
    "    def get_analysis_timestamps(self):\n",
    "        events_df, df = self.dataframe_of_events_and_merge()\n",
    "        window_adj = self.window*2\n",
    "        dictionary = {'neutral':[], 'end':[]}\n",
    "        events = events_df['Timestamp'].to_numpy()\n",
    "        # Getting the timestamps of events we need\n",
    "        for i in range(0, len(events_df), 2):\n",
    "            time = (events[i+1] - events[i])/1000\n",
    "            if time > window_adj:\n",
    "                dictionary['end'].append(events[i+1])\n",
    "            if time > window_adj*2 and time < 45:\n",
    "                counter = 1\n",
    "                while events[i] + window_adj*counter*1000 < events[i+1]:\n",
    "                    dictionary['neutral'].append(events[i] + window_adj*counter*1000)\n",
    "                    counter+=1\n",
    "                    \n",
    "        #If there's no timestamp corresponding to neutral one exactly, we find the nearest one\n",
    "        true_array = []\n",
    "        for element in dictionary['neutral']:\n",
    "            true_array.append(self.find_nearest(self.df_E['Timestamp'].to_numpy(), element))\n",
    "        dictionary['neutral'] = true_array\n",
    "#         dictionary['end'] = list(dictionary['end'])\n",
    "        #we replace each element of dictionary with 2-d array of size 9*n\n",
    "        for i in range(len(dictionary['end'])):\n",
    "            dictionary['end'][i] = self.get_window(dictionary['end'][i]).to_numpy()\n",
    "        for j in range(len(dictionary['neutral'])):\n",
    "            dictionary['neutral'][j] = self.get_window(dictionary['neutral'][j]).to_numpy()\n",
    "        return dictionary           "
   ]
  },
  {
   "cell_type": "code",
   "execution_count": 68,
   "id": "5bfceb87",
   "metadata": {
    "scrolled": true
   },
   "outputs": [],
   "source": [
    "model = DataAnalysis(df_e8, df_f8, 2, 1686584209841, 96101166)"
   ]
  },
  {
   "cell_type": "code",
   "execution_count": 77,
   "id": "09fdbbae",
   "metadata": {},
   "outputs": [
    {
     "data": {
      "text/plain": [
       "array([[ 1.68658436e+12,  2.30818000e+03, -7.55420000e+03, ...,\n",
       "        -1.25359100e+04, -6.93138700e+04, -1.05038000e+03],\n",
       "       [ 1.68658436e+12,  2.29073000e+03, -7.56831000e+03, ...,\n",
       "        -1.25363800e+04, -6.94052300e+04, -1.04594000e+03],\n",
       "       [ 1.68658436e+12,  2.29139000e+03, -7.56888000e+03, ...,\n",
       "        -1.25359600e+04, -6.94223000e+04, -1.03827000e+03],\n",
       "       ...,\n",
       "       [ 1.68658437e+12,  2.27351000e+03, -7.59015000e+03, ...,\n",
       "        -1.25620900e+04, -6.92968000e+04, -1.05400000e+03],\n",
       "       [ 1.68658437e+12,  2.27838000e+03, -7.58481000e+03, ...,\n",
       "        -1.25706700e+04, -6.92281300e+04, -1.06487000e+03],\n",
       "       [ 1.68658437e+12,  2.26860000e+03, -7.59525000e+03, ...,\n",
       "        -1.25851600e+04, -6.91937100e+04, -1.07808000e+03]])"
      ]
     },
     "execution_count": 77,
     "metadata": {},
     "output_type": "execute_result"
    }
   ],
   "source": [
    "model.get_analysis_timestamps()['end'][5]"
   ]
  },
  {
   "cell_type": "code",
   "execution_count": 78,
   "id": "a73d4883",
   "metadata": {},
   "outputs": [
    {
     "data": {
      "text/plain": [
       "array([[ 1.6865844e+12,  2.0406700e+03, -7.7737300e+03, ...,\n",
       "        -1.2690640e+04, -6.2989670e+04, -1.2005300e+03],\n",
       "       [ 1.6865844e+12,  2.0182600e+03, -7.7951000e+03, ...,\n",
       "        -1.2701040e+04, -6.3026250e+04, -1.2133100e+03],\n",
       "       [ 1.6865844e+12,  2.0110100e+03, -7.8017200e+03, ...,\n",
       "        -1.2693840e+04, -6.3106160e+04, -1.2052500e+03],\n",
       "       ...,\n",
       "       [ 1.6865844e+12,  1.9955600e+03, -7.7951900e+03, ...,\n",
       "        -1.2692170e+04, -6.2847960e+04, -1.2146000e+03],\n",
       "       [ 1.6865844e+12,  1.9953700e+03, -7.7963400e+03, ...,\n",
       "        -1.2678820e+04, -6.2912470e+04, -1.2008700e+03],\n",
       "       [ 1.6865844e+12,  2.0026200e+03, -7.7902300e+03, ...,\n",
       "        -1.2686350e+04, -6.2868890e+04, -1.2059700e+03]])"
      ]
     },
     "execution_count": 78,
     "metadata": {},
     "output_type": "execute_result"
    }
   ],
   "source": [
    "model.get_analysis_timestamps()['neutral'][5]"
   ]
  }
 ],
 "metadata": {
  "kernelspec": {
   "display_name": "Python 3 (ipykernel)",
   "language": "python",
   "name": "python3"
  },
  "language_info": {
   "codemirror_mode": {
    "name": "ipython",
    "version": 3
   },
   "file_extension": ".py",
   "mimetype": "text/x-python",
   "name": "python",
   "nbconvert_exporter": "python",
   "pygments_lexer": "ipython3",
   "version": "3.9.7"
  }
 },
 "nbformat": 4,
 "nbformat_minor": 5
}
