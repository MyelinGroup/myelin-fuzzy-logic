{
 "cells": [
  {
   "cell_type": "markdown",
   "metadata": {},
   "source": [
    "![](https://i.imgur.com/qrtlqTe.png)\n",
    "\n",
    "# Introduction to this Notebook\n",
    "\n",
    "Approaching the EEG Fuzzy Logic and trying/ comparing various methods regarding the various techniques of the pipeline.\n",
    "\n",
    "### Goal\n",
    "\n",
    "Creating a general pipeline that will data real time eeg recordings and classifies the mental state of the person using it.\n",
    "The main innovations:\n",
    "* -> keep the process extra simple and easy for the user\n",
    "* -> applying best mathematical and ML methods for the best result\n",
    "* -> test it in an already existing system/ app : Neurofusion\n",
    "* -> gather everything and providing a product/ feature\n",
    "\n",
    "### Pipeline\n",
    "proper eeg recordings/ Data colelction based on both the hardware and the astrobird game -> Gathering correct data format and extracting chunks of interest based on the timestamps of the game -> Signal Denoise -> Feature Extraction -> Data Description / information of interest -> Classifing the state \n",
    "\n",
    "### Notes\n",
    "\n",
    "![](https://cdn-icons-png.flaticon.com/256/3800/3800406.png)\n",
    "\n",
    "\n",
    "This Notebook will be based on the really helpful paper:\n",
    "Md. Mustafizur Rahman, Ajay Krishno Sarkar, Md. Amzad Hossain, Md. Selim Hossain, Md. Rabiul Islam, Md. Biplob Hossain, Julian M.W. Quinn, Mohammad Ali Moni,\n",
    "Recognition of human emotions using EEG signals: A review,\n",
    "Computers in Biology and Medicine,\n",
    "Volume 136,\n",
    "2021,\n",
    "104696,\n",
    "ISSN 0010-4825,\n",
    "https://doi.org/10.1016/j.compbiomed.2021.104696.\n",
    "(https://www.sciencedirect.com/science/article/pii/S001048252100490X)\n",
    "*Abstract: Assessment of the cognitive functions and state of clinical subjects is an important aspect of e-health care delivery, and in the development of novel human-machine interfaces. A subject can display a range of emotions that significantly influence cognition, and emotion classification through the analysis of physiological signals is a key means of detecting emotion. Electroencephalography (EEG) signals have become a common focus of such development compared to other physiological signals because EEG employs simple and subject-acceptable methods for obtaining data that can be used for emotion analysis. We have therefore reviewed published studies that have used EEG signal data to identify possible interconnections between emotion and brain activity. We then describe theoretical conceptualization of basic emotions, and interpret the prevailing techniques that have been adopted for feature extraction, selection, and classification. Finally, we have compared the outcomes of these recent studies and discussed the likely future directions and main challenges for researchers developing EEG-based emotion analysis methods.\n",
    "\n",
    "\n",
    "\n",
    "\n",
    "Also special thanks to chatgpt for helping me with the dataframes format! \n",
    "\n",
    "![](https://i.etsystatic.com/39709653/r/il/51ba4b/4620023641/il_340x270.4620023641_28es.jpg)"
   ]
  },
  {
   "cell_type": "markdown",
   "metadata": {},
   "source": [
    "# EEG Data Recording\n",
    "\n",
    "Used Mentalab/ Neurosity headset\n",
    "* https://neurosity.co/\n",
    "* https://mentalab.com/\n",
    "\n",
    "\n",
    "*5.4. EEG electrodes Usually EEG devices record brain signals using electrodes over the scalp according to the 10/20 methodology. Sometimes maintaining so many electrodes may be difficult for the users, and this makes the systems complex. Therefore, the number of electrodes must be kept low to avoid system difficulty. It is for this reason that the electrode numbers used in the studies ranged from 2 to 62. Only 17% of the studies (9 out of 54) used less than 12 electrodes, while 13% of studies (7 works out of 54) used 14 electrodes. One study [81] found that the most reliable electrode positions for detecting emotional valence are F3 and F4. Valenzi et al. [82] had used eight electrodes to classify the emotion and obtained an accuracy of 87.5%. Another two articles [52,58] recorded EEG signals using only one electrode, while article [83] utilized three channels to detect the signal. S. Wu et al. [56] utilized two channels, Fp1 and Fp2, to detect emotions and obtained an accuracy of 76.34%. About 41% of the studies (22 out of 54) utilized 32 electrodes to record the EEG signal in the past studies. Moreover, 24% of the studies (13 out of 54) used 62 electrodes; two studies utilized 40 and 60 electrodes, respectively (see Fig. 7).* \n",
    "\n",
    "\n",
    "We are using 8 channels:\n",
    "\n",
    "**CP3, C3 F5, PO3, PO4, F6, C4, CP4**\n",
    "\n",
    "![](https://i.imgur.com/6VPj2Jz.png)"
   ]
  },
  {
   "cell_type": "markdown",
   "metadata": {},
   "source": []
  },
  {
   "cell_type": "markdown",
   "metadata": {},
   "source": [
    "# Analysis\n",
    "\n",
    "## Signal Processing [ Artifact Removal ] \n",
    "\n",
    "## Frequency Analysis\n",
    "\n"
   ]
  },
  {
   "cell_type": "code",
   "execution_count": 122,
   "metadata": {
    "_cell_guid": "b1076dfc-b9ad-4769-8c92-a6c4dae69d19",
    "_uuid": "8f2839f25d086af736a60e9eeb907d3b93b6e0e5",
    "execution": {
     "iopub.execute_input": "2023-05-31T16:43:16.077133Z",
     "iopub.status.busy": "2023-05-31T16:43:16.076668Z",
     "iopub.status.idle": "2023-05-31T16:43:16.100094Z",
     "shell.execute_reply": "2023-05-31T16:43:16.099123Z",
     "shell.execute_reply.started": "2023-05-31T16:43:16.077098Z"
    }
   },
   "outputs": [
    {
     "name": "stdout",
     "output_type": "stream",
     "text": [
      "/kaggle/input/testdata/focus_0344.json\n",
      "/kaggle/input/testdata/calm_0344.json\n",
      "/kaggle/input/testdata/raw_0344.csv\n",
      "/kaggle/input/calm-and-focus-neurofusion/calm2.json\n",
      "/kaggle/input/calm-and-focus-neurofusion/calm7.json\n",
      "/kaggle/input/calm-and-focus-neurofusion/focus4.json\n",
      "/kaggle/input/calm-and-focus-neurofusion/calm4.json\n",
      "/kaggle/input/calm-and-focus-neurofusion/focus8.json\n",
      "/kaggle/input/calm-and-focus-neurofusion/calm9.json\n",
      "/kaggle/input/calm-and-focus-neurofusion/calm8.json\n",
      "/kaggle/input/calm-and-focus-neurofusion/calm1.json\n",
      "/kaggle/input/calm-and-focus-neurofusion/calm6.json\n",
      "/kaggle/input/calm-and-focus-neurofusion/focus2.json\n",
      "/kaggle/input/calm-and-focus-neurofusion/focus5.json\n",
      "/kaggle/input/calm-and-focus-neurofusion/focus7.json\n",
      "/kaggle/input/calm-and-focus-neurofusion/calm10.json\n",
      "/kaggle/input/calm-and-focus-neurofusion/focus10.json\n",
      "/kaggle/input/calm-and-focus-neurofusion/focus3.json\n",
      "/kaggle/input/calm-and-focus-neurofusion/focus9.json\n",
      "/kaggle/input/calm-and-focus-neurofusion/calm5.json\n",
      "/kaggle/input/calm-and-focus-neurofusion/calm3.json\n",
      "/kaggle/input/calm-and-focus-neurofusion/focus6.json\n",
      "/kaggle/input/calm-and-focus-neurofusion/focus1.json\n",
      "/kaggle/input/emotions/neutral.json\n"
     ]
    }
   ],
   "source": [
    "# Libraries\n",
    "\n",
    "import numpy as np # linear algebra\n",
    "import pandas as pd # data processing, CSV file I/O (e.g. pd.read_csv)\n",
    "from matplotlib.pyplot import plot \n",
    "\n",
    "import seaborn as sns\n",
    "from sklearn.model_selection import train_test_split\n",
    "import tensorflow as tf\n",
    "from sklearn.metrics import confusion_matrix, classification_report\n",
    "\n",
    "# Input data files are available in the read-only \"../input/\" directory\n",
    "# For example, running this (by clicking run or pressing Shift+Enter) will list all files under the input directory\n",
    "\n",
    "import os\n",
    "for dirname, _, filenames in os.walk('/kaggle/input/'):\n",
    "    for filename in filenames:\n",
    "        \n",
    "        print(os.path.join(dirname, filename))\n",
    "\n"
   ]
  },
  {
   "cell_type": "markdown",
   "metadata": {},
   "source": [
    "## Understanding the data we have in our hands\n",
    "![](https://i.imgur.com/4pk6732.png)"
   ]
  },
  {
   "cell_type": "code",
   "execution_count": 123,
   "metadata": {
    "execution": {
     "iopub.execute_input": "2023-05-31T16:43:16.102344Z",
     "iopub.status.busy": "2023-05-31T16:43:16.101785Z",
     "iopub.status.idle": "2023-05-31T16:43:16.634798Z",
     "shell.execute_reply": "2023-05-31T16:43:16.633496Z",
     "shell.execute_reply.started": "2023-05-31T16:43:16.102314Z"
    }
   },
   "outputs": [
    {
     "name": "stdout",
     "output_type": "stream",
     "text": [
      "        Unnamed: 0                    unixTimestamp          CP3          C3  \\\n",
      "0                0 2023-01-25 07:05:45.954000+00:00   685.766172  308.118444   \n",
      "1                1 2023-01-25 07:05:45.958000+00:00  1002.813066  438.474363   \n",
      "2                2 2023-01-25 07:05:45.962000+00:00  1303.089298  566.315057   \n",
      "3                3 2023-01-25 07:05:45.966000+00:00  1606.315908  695.084988   \n",
      "4                4 2023-01-25 07:05:45.970000+00:00  1892.385570  817.403220   \n",
      "...            ...                              ...          ...         ...   \n",
      "153467      153467 2023-01-25 07:15:45.436000+00:00    -5.157545    1.915821   \n",
      "153468      153468 2023-01-25 07:15:45.440000+00:00    -4.250026    1.016305   \n",
      "153469      153469 2023-01-25 07:15:45.444000+00:00    -3.336578    1.188675   \n",
      "153470      153470 2023-01-25 07:15:45.448000+00:00    -2.823140    1.576664   \n",
      "153471      153471 2023-01-25 07:15:45.452000+00:00    -2.888212    1.032908   \n",
      "\n",
      "                 F5         PO3          PO4           F6          C4  \\\n",
      "0      -1752.384645 -253.180033  -448.505759 -2499.027068 -210.434336   \n",
      "1      -2104.763943 -340.093123  -628.476808 -3213.483440 -279.994396   \n",
      "2      -2526.405718 -414.438921  -789.746451 -3919.252544 -340.248152   \n",
      "3      -2878.412912 -478.742723  -941.433198 -4545.045163 -388.460427   \n",
      "4      -3118.021626 -530.690901 -1075.819541 -5059.859354 -422.844678   \n",
      "...             ...         ...          ...          ...         ...   \n",
      "153467  -745.151904   -6.691292     2.598769  -120.169063    6.568511   \n",
      "153468  -740.292066   -6.336637     4.761801  -115.844160    5.763005   \n",
      "153469  -751.117119   -4.779699     7.361696  -121.403578    4.548249   \n",
      "153470  -771.216948   -2.485522     9.175230  -126.830514    3.438984   \n",
      "153471  -789.441328   -0.303007     9.084476  -123.819243    2.722309   \n",
      "\n",
      "                CP4  \n",
      "0       1517.206606  \n",
      "1       2202.363201  \n",
      "2       2843.879114  \n",
      "3       3486.785718  \n",
      "4       4091.046536  \n",
      "...             ...  \n",
      "153467   -28.138584  \n",
      "153468   -25.143696  \n",
      "153469   -25.233877  \n",
      "153470   -26.161631  \n",
      "153471   -25.971754  \n",
      "\n",
      "[153472 rows x 10 columns]\n",
      "<class 'pandas.core.frame.DataFrame'>\n",
      "RangeIndex: 153472 entries, 0 to 153471\n",
      "Data columns (total 10 columns):\n",
      " #   Column         Non-Null Count   Dtype              \n",
      "---  ------         --------------   -----              \n",
      " 0   Unnamed: 0     153472 non-null  int64              \n",
      " 1   unixTimestamp  153472 non-null  datetime64[ns, UTC]\n",
      " 2   CP3            153472 non-null  float64            \n",
      " 3   C3             153472 non-null  float64            \n",
      " 4   F5             153472 non-null  float64            \n",
      " 5   PO3            153472 non-null  float64            \n",
      " 6   PO4            153472 non-null  float64            \n",
      " 7   F6             153472 non-null  float64            \n",
      " 8   C4             153472 non-null  float64            \n",
      " 9   CP4            153472 non-null  float64            \n",
      "dtypes: datetime64[ns, UTC](1), float64(8), int64(1)\n",
      "memory usage: 11.7 MB\n",
      "    label     metric  probability               timestamp\n",
      "0    calm  awareness     0.000000 2023-01-25 07:05:46.924\n",
      "1    calm  awareness     0.112417 2023-01-25 07:05:47.954\n",
      "2    calm  awareness     0.320532 2023-01-25 07:05:49.180\n",
      "3    calm  awareness     0.182826 2023-01-25 07:05:49.891\n",
      "4    calm  awareness     0.288646 2023-01-25 07:05:50.900\n",
      "..    ...        ...          ...                     ...\n",
      "608  calm  awareness     0.467896 2023-01-25 07:15:40.821\n",
      "609  calm  awareness     0.409121 2023-01-25 07:15:41.870\n",
      "610  calm  awareness     0.359477 2023-01-25 07:15:42.767\n",
      "611  calm  awareness     0.330464 2023-01-25 07:15:43.765\n",
      "612  calm  awareness     0.324592 2023-01-25 07:15:44.765\n",
      "\n",
      "[613 rows x 4 columns]\n",
      "<class 'pandas.core.frame.DataFrame'>\n",
      "RangeIndex: 613 entries, 0 to 612\n",
      "Data columns (total 4 columns):\n",
      " #   Column       Non-Null Count  Dtype         \n",
      "---  ------       --------------  -----         \n",
      " 0   label        613 non-null    object        \n",
      " 1   metric       613 non-null    object        \n",
      " 2   probability  613 non-null    float64       \n",
      " 3   timestamp    613 non-null    datetime64[ns]\n",
      "dtypes: datetime64[ns](1), float64(1), object(2)\n",
      "memory usage: 19.3+ KB\n",
      "     label     metric  probability               timestamp\n",
      "0    focus  awareness     0.000000 2023-01-25 07:05:46.912\n",
      "1    focus  awareness     0.191566 2023-01-25 07:05:47.941\n",
      "2    focus  awareness     0.455648 2023-01-25 07:05:49.150\n",
      "3    focus  awareness     0.353778 2023-01-25 07:05:49.864\n",
      "4    focus  awareness     0.246882 2023-01-25 07:05:50.867\n",
      "..     ...        ...          ...                     ...\n",
      "608  focus  awareness     0.491755 2023-01-25 07:15:40.737\n",
      "609  focus  awareness     0.535942 2023-01-25 07:15:41.767\n",
      "610  focus  awareness     0.584916 2023-01-25 07:15:42.681\n",
      "611  focus  awareness     0.588581 2023-01-25 07:15:43.675\n",
      "612  focus  awareness     0.477565 2023-01-25 07:15:44.675\n",
      "\n",
      "[613 rows x 4 columns]\n",
      "<class 'pandas.core.frame.DataFrame'>\n",
      "RangeIndex: 613 entries, 0 to 612\n",
      "Data columns (total 4 columns):\n",
      " #   Column       Non-Null Count  Dtype         \n",
      "---  ------       --------------  -----         \n",
      " 0   label        613 non-null    object        \n",
      " 1   metric       613 non-null    object        \n",
      " 2   probability  613 non-null    float64       \n",
      " 3   timestamp    613 non-null    datetime64[ns]\n",
      "dtypes: datetime64[ns](1), float64(1), object(2)\n",
      "memory usage: 19.3+ KB\n"
     ]
    }
   ],
   "source": [
    "os.chdir(\"/kaggle/input/\")\n",
    "os.listdir() \n",
    "\n",
    "#df=pd.read_json('/kaggle/input/emotions/neutral.json')\n",
    "\n",
    "#df.info()\n",
    "\n",
    "#df.describe()\n",
    "\n",
    "# read raw eeg data\n",
    "df=pd.read_csv('/kaggle/input/testdata/raw_0344.csv')\n",
    "# convert all unixtimestamp to timestamp \n",
    "df['unixTimestamp']=pd.to_datetime(df['unixTimestamp'], unit='ms', utc=True)\n",
    "\n",
    "#unit = s - when value is in seconds\n",
    "#unit = ms - when value is in milliseconds   # raw is in ms so ms\n",
    "\n",
    "print(df)\n",
    "df.info()\n",
    "\n",
    "df.describe()\n",
    "\n",
    "# get the timestamps for calm an focus state labels vreated based on the alpha and the gamma waves\n",
    "dfc=pd.read_json('/kaggle/input/testdata/calm_0344.json')\n",
    "\n",
    "print(dfc)\n",
    "dfc.info()\n",
    "\n",
    "\n",
    "dff=pd.read_json('/kaggle/input/testdata/focus_0344.json')\n",
    "print(dff)\n",
    "dff.info()\n",
    "\n"
   ]
  },
  {
   "cell_type": "markdown",
   "metadata": {},
   "source": [
    "We will get 5 seconds events and create a dataset with the eeg signals for those epochs containing the label of calm or focused\n"
   ]
  },
  {
   "cell_type": "markdown",
   "metadata": {},
   "source": [
    "Create a dataframe for just one channel and put columns for focus and calm with their timestamps"
   ]
  },
  {
   "cell_type": "code",
   "execution_count": 124,
   "metadata": {
    "execution": {
     "iopub.execute_input": "2023-05-31T16:43:16.637229Z",
     "iopub.status.busy": "2023-05-31T16:43:16.636879Z",
     "iopub.status.idle": "2023-05-31T16:43:16.651120Z",
     "shell.execute_reply": "2023-05-31T16:43:16.649860Z",
     "shell.execute_reply.started": "2023-05-31T16:43:16.637200Z"
    }
   },
   "outputs": [
    {
     "name": "stdout",
     "output_type": "stream",
     "text": [
      "    label     metric  probability               timestamp\n",
      "2    calm  awareness     0.000000 2023-01-25 07:05:46.924\n",
      "3   focus  awareness     0.191566 2023-01-25 07:05:47.941\n",
      "4    calm  awareness     0.112417 2023-01-25 07:05:47.954\n",
      "5   focus  awareness     0.455648 2023-01-25 07:05:49.150\n",
      "6    calm  awareness     0.320532 2023-01-25 07:05:49.180\n",
      "7   focus  awareness     0.353778 2023-01-25 07:05:49.864\n",
      "8    calm  awareness     0.182826 2023-01-25 07:05:49.891\n",
      "9   focus  awareness     0.246882 2023-01-25 07:05:50.867\n",
      "10   calm  awareness     0.288646 2023-01-25 07:05:50.900\n"
     ]
    }
   ],
   "source": [
    "#combine focus and calm dataframes together and sort based on the timestamps from start to finish\n",
    "\n",
    "# Combine the two DataFrames\n",
    "df_combined = pd.concat([dfc, dff])\n",
    "\n",
    "# Sort \n",
    "df_combined_sorted = df_combined.sort_values('timestamp')\n",
    "# Reset the index starting from 1\n",
    "df_combined_sorted = df_combined_sorted.reset_index(drop=True)\n",
    "df_combined_sorted.index += 1\n",
    "print(df_combined_sorted[1:10])\n",
    "\n"
   ]
  },
  {
   "cell_type": "markdown",
   "metadata": {},
   "source": []
  },
  {
   "cell_type": "markdown",
   "metadata": {},
   "source": [
    " ... so turns out we cannot short based on more \"calms\" or \"focus\" on certain duration periods because it literally goes from one to another \n",
    "like ping pong so it is not a good approach...\n",
    "so we are going to use probability instead\n",
    "I will set a windows of one second ( including all millisecond examples) I will add all the prob of calm and focus and I will\n",
    " label the second under the one with the higher sum of probabilities"
   ]
  },
  {
   "cell_type": "code",
   "execution_count": 125,
   "metadata": {
    "execution": {
     "iopub.execute_input": "2023-05-31T16:43:16.653003Z",
     "iopub.status.busy": "2023-05-31T16:43:16.652640Z",
     "iopub.status.idle": "2023-05-31T16:43:16.753932Z",
     "shell.execute_reply": "2023-05-31T16:43:16.752711Z",
     "shell.execute_reply.started": "2023-05-31T16:43:16.652974Z"
    }
   },
   "outputs": [
    {
     "name": "stdout",
     "output_type": "stream",
     "text": [
      "    label     metric  probability            timestamp\n",
      "2    calm  awareness     0.000000  2023-01-25 07:05:46\n",
      "3   focus  awareness     0.191566  2023-01-25 07:05:47\n",
      "4    calm  awareness     0.112417  2023-01-25 07:05:47\n",
      "5   focus  awareness     0.455648  2023-01-25 07:05:49\n",
      "6    calm  awareness     0.320532  2023-01-25 07:05:49\n",
      "7   focus  awareness     0.353778  2023-01-25 07:05:49\n",
      "8    calm  awareness     0.182826  2023-01-25 07:05:49\n",
      "9   focus  awareness     0.246882  2023-01-25 07:05:50\n",
      "10   calm  awareness     0.288646  2023-01-25 07:05:50\n",
      "None\n",
      "timestamp            label\n",
      "2023-01-25 07:05:46  calm     0.000000\n",
      "                     focus    0.000000\n",
      "2023-01-25 07:05:47  calm     0.112417\n",
      "                     focus    0.191566\n",
      "2023-01-25 07:05:49  calm     0.503358\n",
      "                     focus    0.809426\n",
      "2023-01-25 07:05:50  calm     0.288646\n",
      "                     focus    0.246882\n",
      "2023-01-25 07:05:51  calm     0.257600\n",
      "                     focus    0.256991\n",
      "2023-01-25 07:05:52  calm     0.325529\n",
      "                     focus    0.290507\n",
      "2023-01-25 07:05:53  calm     0.288460\n",
      "                     focus    0.398438\n",
      "2023-01-25 07:05:54  calm     0.345082\n",
      "                     focus    0.293361\n",
      "2023-01-25 07:05:55  calm     0.245556\n",
      "                     focus    0.459336\n",
      "2023-01-25 07:05:56  calm     0.334341\n",
      "                     focus    0.415240\n",
      "Name: probability, dtype: float64\n",
      "timestamp\n",
      "2023-01-25 07:05:46    focus\n",
      "2023-01-25 07:05:47    focus\n",
      "2023-01-25 07:05:49    focus\n",
      "2023-01-25 07:05:50    focus\n",
      "2023-01-25 07:05:51    focus\n",
      "                       ...  \n",
      "2023-01-25 07:15:40    focus\n",
      "2023-01-25 07:15:41    focus\n",
      "2023-01-25 07:15:42    focus\n",
      "2023-01-25 07:15:43    focus\n",
      "2023-01-25 07:15:44    focus\n",
      "Name: label, Length: 589, dtype: object\n",
      "               timestamp  label\n",
      "0    2023-01-25 07:05:46  focus\n",
      "1    2023-01-25 07:05:47  focus\n",
      "2    2023-01-25 07:05:49  focus\n",
      "3    2023-01-25 07:05:50  focus\n",
      "4    2023-01-25 07:05:51  focus\n",
      "..                   ...    ...\n",
      "584  2023-01-25 07:15:40  focus\n",
      "585  2023-01-25 07:15:41  focus\n",
      "586  2023-01-25 07:15:42  focus\n",
      "587  2023-01-25 07:15:43  focus\n",
      "588  2023-01-25 07:15:44  focus\n",
      "\n",
      "[589 rows x 2 columns]\n"
     ]
    }
   ],
   "source": [
    "\n",
    "\n",
    "# Remove milliseconds from the 'timestamp' column\n",
    "df_combined_sorted['timestamp'] = df_combined_sorted['timestamp'].dt.strftime('%Y-%m-%d %H:%M:%S')\n",
    "print(print(df_combined_sorted[1:10]))\n",
    "\n",
    "sum_values = df_combined_sorted.groupby(['timestamp', 'label'])['probability'].sum()\n",
    "\n",
    "print(sum_values[0:20])\n",
    "\n",
    "# Find the label with the highest sum for each timestamp\n",
    "max_labels = sum_values.reset_index().groupby('timestamp')['label'].max()\n",
    "\n",
    "print(max_labels)\n",
    "max_labels=max_labels.to_frame()\n",
    "max_labels=max_labels.reset_index()\n",
    "max_labels = max_labels.rename(columns={'timestamp': 'timestamp'})\n",
    "\n",
    "print(max_labels)\n",
    "\n"
   ]
  },
  {
   "cell_type": "markdown",
   "metadata": {},
   "source": [
    "Seems we have mostly focus, lets check if we can have also calm somewhere"
   ]
  },
  {
   "cell_type": "code",
   "execution_count": 126,
   "metadata": {
    "execution": {
     "iopub.execute_input": "2023-05-31T16:43:16.757196Z",
     "iopub.status.busy": "2023-05-31T16:43:16.756837Z",
     "iopub.status.idle": "2023-05-31T16:43:16.764971Z",
     "shell.execute_reply": "2023-05-31T16:43:16.763408Z",
     "shell.execute_reply.started": "2023-05-31T16:43:16.757164Z"
    }
   },
   "outputs": [
    {
     "name": "stdout",
     "output_type": "stream",
     "text": [
      "Count of 'calm': 9\n"
     ]
    }
   ],
   "source": [
    "\n",
    "count_a = max_labels['label'].value_counts()['calm']\n",
    "\n",
    "print(\"Count of 'calm':\", count_a)\n",
    "\n",
    "#and get the timestamps for those calms\n",
    "#values = max_labels.loc[max_labels['label'] == 'timestamp', 'calm']\n",
    "\n",
    "#print(values)"
   ]
  },
  {
   "cell_type": "markdown",
   "metadata": {},
   "source": [
    "Visualise it\n"
   ]
  },
  {
   "cell_type": "code",
   "execution_count": 127,
   "metadata": {
    "execution": {
     "iopub.execute_input": "2023-05-31T16:43:16.767330Z",
     "iopub.status.busy": "2023-05-31T16:43:16.766849Z",
     "iopub.status.idle": "2023-05-31T16:43:17.063827Z",
     "shell.execute_reply": "2023-05-31T16:43:17.062671Z",
     "shell.execute_reply.started": "2023-05-31T16:43:16.767288Z"
    }
   },
   "outputs": [
    {
     "data": {
      "text/plain": [
       "[<matplotlib.lines.Line2D at 0x7e43609202b0>]"
      ]
     },
     "execution_count": 127,
     "metadata": {},
     "output_type": "execute_result"
    },
    {
     "data": {
      "image/png": "[encoded data removed]",
      "text/plain": [
       "<Figure size 640x480 with 1 Axes>"
      ]
     },
     "metadata": {},
     "output_type": "display_data"
    }
   ],
   "source": [
    "\n",
    "series = max_labels['label'].map({'focus': 0, 'calm': 1})\n",
    "\n",
    "plot(series)"
   ]
  },
  {
   "cell_type": "markdown",
   "metadata": {},
   "source": [
    "Now we will assign those labels to the eeg data of channel C3 to create vectors for training our ML model.\n",
    "for simplicity and to avoid overfitting of focus we will choose 20 examples of focus and the only 9 we have of calm.\n",
    "We will keep the window of 1 second duration so the eeg data will contain all the amplitudes of the milliseconds in the 1 second period.\n"
   ]
  },
  {
   "cell_type": "code",
   "execution_count": 128,
   "metadata": {
    "execution": {
     "iopub.execute_input": "2023-05-31T16:43:17.065712Z",
     "iopub.status.busy": "2023-05-31T16:43:17.065342Z",
     "iopub.status.idle": "2023-05-31T16:43:18.667012Z",
     "shell.execute_reply": "2023-05-31T16:43:18.665719Z",
     "shell.execute_reply.started": "2023-05-31T16:43:17.065681Z"
    }
   },
   "outputs": [
    {
     "name": "stderr",
     "output_type": "stream",
     "text": [
      "/tmp/ipykernel_32/3829737088.py:4: SettingWithCopyWarning: \n",
      "A value is trying to be set on a copy of a slice from a DataFrame.\n",
      "Try using .loc[row_indexer,col_indexer] = value instead\n",
      "\n",
      "See the caveats in the documentation: https://pandas.pydata.org/pandas-docs/stable/user_guide/indexing.html#returning-a-view-versus-a-copy\n",
      "  channel['unixTimestamp'] = channel['unixTimestamp'].dt.strftime('%Y-%m-%d %H:%M:%S')\n"
     ]
    },
    {
     "name": "stdout",
     "output_type": "stream",
     "text": [
      "                C3        unixTimestamp\n",
      "0       308.118444  2023-01-25 07:05:45\n",
      "1       438.474363  2023-01-25 07:05:45\n",
      "2       566.315057  2023-01-25 07:05:45\n",
      "3       695.084988  2023-01-25 07:05:45\n",
      "4       817.403220  2023-01-25 07:05:45\n",
      "...            ...                  ...\n",
      "153467    1.915821  2023-01-25 07:15:45\n",
      "153468    1.016305  2023-01-25 07:15:45\n",
      "153469    1.188675  2023-01-25 07:15:45\n",
      "153470    1.576664  2023-01-25 07:15:45\n",
      "153471    1.032908  2023-01-25 07:15:45\n",
      "\n",
      "[153472 rows x 2 columns]\n",
      "153472\n"
     ]
    },
    {
     "data": {
      "image/png": "[encoded data removed]",
      "text/plain": [
       "<Figure size 640x480 with 1 Axes>"
      ]
     },
     "metadata": {},
     "output_type": "display_data"
    }
   ],
   "source": [
    "import matplotlib.pyplot as plt\n",
    "\n",
    "channel= df[['C3', 'unixTimestamp']]\n",
    "channel['unixTimestamp'] = channel['unixTimestamp'].dt.strftime('%Y-%m-%d %H:%M:%S')\n",
    "print(channel)\n",
    "\n",
    "\n",
    "# Plot through time we know fs= 256 Hz:\n",
    "\n",
    "maxt = len(channel['C3'])  # Maximum time value\n",
    "print(maxt)\n",
    "#fs = 256     # Sampling frequency we will not use it as it is already in samples and not time\n",
    "\n",
    "t = np.arange(0, maxt)\n",
    "\n",
    "plot(t,channel['C3'])\n",
    "plt.xlabel('SAMPLES')\n",
    "plt.ylabel('Amplitude')\n",
    "plt.title('Plot of channel C3 through time')\n",
    "plt.show()"
   ]
  },
  {
   "cell_type": "code",
   "execution_count": 129,
   "metadata": {
    "execution": {
     "iopub.execute_input": "2023-05-31T16:43:18.669851Z",
     "iopub.status.busy": "2023-05-31T16:43:18.669154Z",
     "iopub.status.idle": "2023-05-31T16:43:18.750826Z",
     "shell.execute_reply": "2023-05-31T16:43:18.749564Z",
     "shell.execute_reply.started": "2023-05-31T16:43:18.669813Z"
    }
   },
   "outputs": [
    {
     "name": "stdout",
     "output_type": "stream",
     "text": [
      "                C3        unixTimestamp labels\n",
      "0       308.118444  2023-01-25 07:05:45    NaN\n",
      "1       438.474363  2023-01-25 07:05:45    NaN\n",
      "2       566.315057  2023-01-25 07:05:45    NaN\n",
      "3       695.084988  2023-01-25 07:05:45    NaN\n",
      "4       817.403220  2023-01-25 07:05:45    NaN\n",
      "...            ...                  ...    ...\n",
      "153467    1.915821  2023-01-25 07:15:45    NaN\n",
      "153468    1.016305  2023-01-25 07:15:45    NaN\n",
      "153469    1.188675  2023-01-25 07:15:45    NaN\n",
      "153470    1.576664  2023-01-25 07:15:45    NaN\n",
      "153471    1.032908  2023-01-25 07:15:45    NaN\n",
      "\n",
      "[153472 rows x 3 columns]\n"
     ]
    },
    {
     "name": "stderr",
     "output_type": "stream",
     "text": [
      "/tmp/ipykernel_32/1515073489.py:12: SettingWithCopyWarning: \n",
      "A value is trying to be set on a copy of a slice from a DataFrame.\n",
      "Try using .loc[row_indexer,col_indexer] = value instead\n",
      "\n",
      "See the caveats in the documentation: https://pandas.pydata.org/pandas-docs/stable/user_guide/indexing.html#returning-a-view-versus-a-copy\n",
      "  channel['labels'] = matching_elements.map(label_mapping)\n"
     ]
    }
   ],
   "source": [
    "\n",
    "\n",
    "#plot(channel)\n",
    "\n",
    "\n",
    "# and now if the timestamp is the same on the max_labels we will set the label \n",
    "label_mapping = dict(zip(max_labels['timestamp'], max_labels['label']))\n",
    "\n",
    "\n",
    "# Check if the elements in column 'a' of DataFrame A are the same as the elements in column 'b' of DataFrame B\n",
    "matching_elements = channel[channel['unixTimestamp'].isin(max_labels['timestamp'])]['unixTimestamp']\n",
    "\n",
    "# Create a new column 'new_column' in DataFrame B and assign the corresponding labels from column 'a2' of DataFrame A\n",
    "channel['labels'] = matching_elements.map(label_mapping)\n",
    "\n",
    "label_mapping = dict(zip(max_labels.index, max_labels['label']))\n",
    "\n",
    "\n",
    "print(channel)   # first is nan because we do not have labels for those start times"
   ]
  },
  {
   "cell_type": "code",
   "execution_count": 130,
   "metadata": {
    "execution": {
     "iopub.execute_input": "2023-05-31T16:43:18.753307Z",
     "iopub.status.busy": "2023-05-31T16:43:18.752868Z",
     "iopub.status.idle": "2023-05-31T16:43:19.453934Z",
     "shell.execute_reply": "2023-05-31T16:43:19.452599Z",
     "shell.execute_reply.started": "2023-05-31T16:43:18.753268Z"
    }
   },
   "outputs": [
    {
     "name": "stdout",
     "output_type": "stream",
     "text": [
      "unixTimestamp                                  2023-01-25 07:05:46\n",
      "labels                                                       focus\n",
      "C3               [1205.9906156822203, 1213.5095471460154, 1213....\n",
      "Name: 0, dtype: object\n",
      "           unixTimestamp                                                 C3  \\\n",
      "0    2023-01-25 07:05:46  [1205.9906156822203, 1213.5095471460154, 1213....   \n",
      "1    2023-01-25 07:05:47  [16.341167170976327, 18.01732529680889, 19.371...   \n",
      "2    2023-01-25 07:05:49  [-9.135182270692365, -10.097381534353502, -9.2...   \n",
      "3    2023-01-25 07:05:50  [10.8201908159907, 17.009897637272253, 21.9289...   \n",
      "4    2023-01-25 07:05:51  [-13.693684834685474, -14.65397870859103, -17....   \n",
      "..                   ...                                                ...   \n",
      "584  2023-01-25 07:15:40  [10.954936426128794, 10.04180497310806, 9.3539...   \n",
      "585  2023-01-25 07:15:41  [-6.4802369665931625, -5.2750665797265786, -3....   \n",
      "586  2023-01-25 07:15:42  [17.370790318939576, 20.11091140707929, 21.570...   \n",
      "587  2023-01-25 07:15:43  [11.508323538085314, 10.884791300204698, 11.25...   \n",
      "588  2023-01-25 07:15:44  [-1.238199964251928, -0.6379114506675221, 2.15...   \n",
      "\n",
      "    labels  \n",
      "0    focus  \n",
      "1    focus  \n",
      "2    focus  \n",
      "3    focus  \n",
      "4    focus  \n",
      "..     ...  \n",
      "584  focus  \n",
      "585  focus  \n",
      "586  focus  \n",
      "587  focus  \n",
      "588  focus  \n",
      "\n",
      "[589 rows x 3 columns]\n",
      "0      256\n",
      "1      256\n",
      "2      256\n",
      "3      256\n",
      "4      256\n",
      "      ... \n",
      "584    255\n",
      "585    257\n",
      "586    256\n",
      "587    256\n",
      "588    256\n",
      "Name: C3, Length: 589, dtype: int64\n"
     ]
    },
    {
     "data": {
      "image/png": "[encoded data removed]",
      "text/plain": [
       "<Figure size 640x480 with 1 Axes>"
      ]
     },
     "metadata": {},
     "output_type": "display_data"
    }
   ],
   "source": [
    "new_df = channel.groupby(['unixTimestamp', 'labels'])['C3'].apply(list).reset_index()\n",
    "\n",
    "\n",
    "print(new_df.iloc[0]) #example of an element\n",
    "new_order = ['unixTimestamp', 'C3', 'labels']  # Specify the desired column order\n",
    "\n",
    "new_df = new_df[new_order]\n",
    "\n",
    "print(new_df)\n",
    "\n",
    "size_column = new_df['C3'].astype(str).str.len()\n",
    "\n",
    "length_column = new_df['C3'].apply(len)\n",
    "\n",
    "print(length_column)\n",
    "\n",
    "\n",
    "\n",
    "import seaborn as sns\n",
    "import matplotlib.pyplot as plt\n",
    "\n",
    "\n",
    "\n",
    "# Plot the histogram with KDE line\n",
    "sns.histplot(length_column, kde=True, color='blue', edgecolor='black')\n",
    "\n",
    "# Set labels and title\n",
    "plt.xlabel('Length')\n",
    "plt.ylabel('Density')\n",
    "plt.title('Distribution of Samples Lengths ')\n",
    "\n",
    "# Display the plot\n",
    "plt.show()\n"
   ]
  },
  {
   "cell_type": "markdown",
   "metadata": {},
   "source": [
    "So I will pick elements to train of size 256 ( that makes sense as Fs=256 and my elements are almost always of 1 sec)"
   ]
  },
  {
   "cell_type": "code",
   "execution_count": 131,
   "metadata": {
    "execution": {
     "iopub.execute_input": "2023-05-31T16:43:19.456368Z",
     "iopub.status.busy": "2023-05-31T16:43:19.455861Z",
     "iopub.status.idle": "2023-05-31T16:43:19.495232Z",
     "shell.execute_reply": "2023-05-31T16:43:19.494198Z",
     "shell.execute_reply.started": "2023-05-31T16:43:19.456324Z"
    }
   },
   "outputs": [
    {
     "name": "stdout",
     "output_type": "stream",
     "text": [
      "                                                   C3 labels\n",
      "5   [-17.24995589379006, -16.787112066206134, -16....  focus\n",
      "12  [4.308778019137011, 6.588799638705611, 8.37834...   calm\n",
      "7   [-2.116045724489472, -1.572200397675291, -0.83...  focus\n",
      "0   [-1.9145181524254224, -3.030855221874818, -3.2...  focus\n",
      "13  [6.2577376493145, 6.384875152883119, 5.4672883...   calm\n",
      "11  [-1.455836656096154, -1.201924877589642, 0.412...  focus\n",
      "10  [4.244218439186815, 5.111579019693021, 6.88579...  focus\n",
      "4   [3.318033828809028, 4.623041592289368, 5.73234...  focus\n",
      "6   [0.8132380359761281, 1.333976348429718, 2.5187...  focus\n",
      "16  [-4.716325087936658, -6.585975449094986, -7.75...   calm\n",
      "3   [-3.804967253552371, -3.648268103487575, -2.64...  focus\n",
      "18  [12.705009260234862, 10.192830947692158, 8.598...   calm\n",
      "14  [-6.539085961280804, -0.09272336662055, 4.9365...   calm\n",
      "17  [8.953525737746787, 7.880694759753252, 5.82330...   calm\n",
      "19  [-1.5416358593646131, 0.015553896649321, 3.041...   calm\n",
      "8   [-3.603796281386479, -2.603998867934543, 0.034...  focus\n",
      "2   [-0.621255824607957, -0.765956288955967, -0.68...  focus\n",
      "9   [1.335402624166176, 2.079595451830717, 2.34249...  focus\n",
      "15  [6.436299350158897, 9.153307563333687, 10.7416...   calm\n",
      "1   [5.173527996803925, 2.466516293214193, 0.32910...  focus\n"
     ]
    }
   ],
   "source": [
    "\n",
    "focus_samples = new_df.loc[new_df['labels'] == 'focus'].loc[new_df['C3'].str.len() == 256].sample(n=12)[['C3', 'labels']]\n",
    "calm_samples = new_df.loc[new_df['labels'] == 'calm'].loc[new_df['C3'].str.len() == 256].sample(n=8)[['C3', 'labels']]\n",
    "\n",
    "# Concatenate the focus and calm samples into a new DataFrame\n",
    "selected_samples = pd.concat([focus_samples, calm_samples], ignore_index=True)\n",
    "\n",
    "# Shuffle the selected samples\n",
    "selected_samples = selected_samples.sample(frac=1)\n",
    "\n",
    "print(selected_samples)"
   ]
  },
  {
   "cell_type": "markdown",
   "metadata": {},
   "source": [
    "# ML Training the model to a classifier\n",
    "\n",
    "I will try many classification methods and compare them\n",
    "\n",
    "## SVM\n",
    "\n",
    "First I will train a model to classify them for example with an SVM model\n",
    "\n",
    "![](https://datatron.com/wp-content/uploads/2021/05/Support-Vector-Machine.png)\n",
    "\n",
    "Support Vector Machine (SVM) model is a Supervised Learning model used for classification and regression analysis. It is a representation of the examples as points in space, mapped so that the examples of the separate categories are divided by a clear gap that is as wide as possible. New examples are then mapped into that same space and predicted to belong to a category based on which side of the gap they fall.\n",
    "\n"
   ]
  },
  {
   "cell_type": "code",
   "execution_count": 132,
   "metadata": {
    "execution": {
     "iopub.execute_input": "2023-05-31T16:43:19.498610Z",
     "iopub.status.busy": "2023-05-31T16:43:19.498250Z",
     "iopub.status.idle": "2023-05-31T16:43:19.512778Z",
     "shell.execute_reply": "2023-05-31T16:43:19.511407Z",
     "shell.execute_reply.started": "2023-05-31T16:43:19.498580Z"
    }
   },
   "outputs": [
    {
     "name": "stdout",
     "output_type": "stream",
     "text": [
      "Accuracy: 0.6\n"
     ]
    }
   ],
   "source": [
    "from sklearn.model_selection import train_test_split\n",
    "from sklearn.svm import SVC\n",
    "import numpy as np\n",
    "\n",
    "# Assuming 'selected_samples' is your DataFrame with selected samples and labels\n",
    "X = np.array(selected_samples['C3'].tolist())  # Convert column to a NumPy array\n",
    "y = np.array(selected_samples['labels'].tolist())  # Convert column to a NumPy array\n",
    "\n",
    "# Split the data into train and test sets\n",
    "X_train, X_test, y_train, y_test = train_test_split(X, y, test_size=0.25, random_state=42)\n",
    "\n",
    "# Initialize an SVM model\n",
    "svm_model = SVC()\n",
    "\n",
    "# Train the SVM model\n",
    "svm_model.fit(X_train, y_train)\n",
    "\n",
    "# Evaluate the trained model on the test set\n",
    "accuracy = svm_model.score(X_test, y_test)\n",
    "\n",
    "print(\"Accuracy:\", accuracy)\n",
    "\n"
   ]
  },
  {
   "cell_type": "markdown",
   "metadata": {},
   "source": []
  },
  {
   "cell_type": "code",
   "execution_count": 133,
   "metadata": {
    "execution": {
     "iopub.execute_input": "2023-05-31T16:43:19.515445Z",
     "iopub.status.busy": "2023-05-31T16:43:19.514857Z",
     "iopub.status.idle": "2023-05-31T16:43:19.841544Z",
     "shell.execute_reply": "2023-05-31T16:43:19.840448Z",
     "shell.execute_reply.started": "2023-05-31T16:43:19.515403Z"
    }
   },
   "outputs": [
    {
     "data": {
      "image/png": "[encoded data removed]",
      "text/plain": [
       "<Figure size 800x600 with 2 Axes>"
      ]
     },
     "metadata": {},
     "output_type": "display_data"
    }
   ],
   "source": [
    "import numpy as np\n",
    "import matplotlib.pyplot as plt\n",
    "import seaborn as sns\n",
    "from sklearn.metrics import confusion_matrix\n",
    "\n",
    "# Assuming 'X_test' and 'y_test' are the test data and corresponding labels\n",
    "# Assuming 'svm_model' is the trained SVM model\n",
    "\n",
    "# Generate predictions on the test set\n",
    "y_pred = svm_model.predict(X_test)\n",
    "\n",
    "# Create the confusion matrix\n",
    "cm = confusion_matrix(y_test, y_pred)\n",
    "\n",
    "# Get the unique class labels\n",
    "labels = np.unique(y_test)\n",
    "\n",
    "# Plot the confusion matrix as a heatmap\n",
    "plt.figure(figsize=(8, 6))\n",
    "sns.heatmap(cm, annot=True, cmap='Blues', fmt='d', xticklabels=labels, yticklabels=labels)\n",
    "plt.xlabel('Predicted Labels')\n",
    "plt.ylabel('True Labels')\n",
    "plt.title('Confusion Matrix')\n",
    "plt.show()\n"
   ]
  },
  {
   "cell_type": "markdown",
   "metadata": {},
   "source": [
    "gabes analysis >70% the entire channels"
   ]
  },
  {
   "cell_type": "markdown",
   "metadata": {},
   "source": [
    "Data normalisation\n",
    "work with amplitude"
   ]
  }
 ],
 "metadata": {
  "kernelspec": {
   "display_name": "Python 3 (ipykernel)",
   "language": "python",
   "name": "python3"
  },
  "language_info": {
   "codemirror_mode": {
    "name": "ipython",
    "version": 3
   },
   "file_extension": ".py",
   "mimetype": "text/x-python",
   "name": "python",
   "nbconvert_exporter": "python",
   "pygments_lexer": "ipython3",
   "version": "3.9.7"
  }
 },
 "nbformat": 4,
 "nbformat_minor": 4
}
